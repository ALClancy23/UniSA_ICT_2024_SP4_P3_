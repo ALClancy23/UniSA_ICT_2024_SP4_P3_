{
 "cells": [
  {
   "cell_type": "markdown",
   "metadata": {},
   "source": [
    "Milestone 2: Linking Patterns to Outcomes\n",
    "Objective: Translate and map chess openings into patterns, link these patterns to game outcomes, and include time and date information."
   ]
  },
  {
   "cell_type": "code",
   "execution_count": 9,
   "metadata": {},
   "outputs": [
    {
     "name": "stderr",
     "output_type": "stream",
     "text": [
      "C:\\Users\\dak_d\\AppData\\Local\\Temp\\ipykernel_38036\\2171683832.py:10: DtypeWarning: Columns (188,189,190,191,192,193,194,195,196,197,198,199,200,201,202,203,204,205,206,207,208,388,389,390,391,392,393,394,395,396,397,398,399,400,401,402,403,404,405,406,407,408) have mixed types. Specify dtype option on import or set low_memory=False.\n",
      "  data = pd.read_csv(file_path)\n"
     ]
    }
   ],
   "source": [
    "# Import the necessary libraries\n",
    "import pandas as pd \n",
    "import matplotlib.pyplot as plt \n",
    "\n",
    "# Load the dataset. Make sure to change the filepath, to your own local machine. This will need to be changed to the final\n",
    "# resting place of our chess dataset\n",
    "file_path = 'C:\\\\Users\\\\dak_d\\\\Desktop\\\\UNI SA\\\\Capstone 1\\\\UniSA_ICT_2024_SP4_P3_\\\\chessdata.csv'\n",
    "\n",
    "# Load the dataset into pandas.\n",
    "data = pd.read_csv(file_path)\n",
    "\n"
   ]
  },
  {
   "cell_type": "markdown",
   "metadata": {},
   "source": [
    "Clean the data: As this is still early days, I am only taking the opening moves and keeping the time frame data, as \n",
    "requested by the stakeholders Jan and Georg. "
   ]
  },
  {
   "cell_type": "code",
   "execution_count": 10,
   "metadata": {},
   "outputs": [
    {
     "name": "stdout",
     "output_type": "stream",
     "text": [
      "First 5 rows: \n",
      "                                  Opening Result        Date TimeControl  \\\n",
      "0                       Caro-Kann Defense    0-1  2019.04.30       300+3   \n",
      "1                            Italian Game    0-1  2019.04.30       300+0   \n",
      "2                     Philidor Defense #2    1-0  2019.04.30       600+0   \n",
      "3                          Modern Defense    0-1  2019.04.30        60+0   \n",
      "4  Sicilian Defense: Loewenthal Variation    1-0  2019.04.30       180+0   \n",
      "\n",
      "      UTCDate   UTCTime Move_ply_1 Move_ply_2 Move_ply_3 Move_ply_4  \\\n",
      "0  2019.04.30  22:00:24         d4         d5        Nc3         c6   \n",
      "1  2019.04.30  22:00:13         e4         e5        Nf3        Nc6   \n",
      "2  2019.04.30  22:00:41         e4         e5        Nf3         d6   \n",
      "3  2019.04.30  22:00:43         e4         g6         d4         h6   \n",
      "4  2019.04.30  22:00:46         e4         c5        Nf3        Nc6   \n",
      "\n",
      "  Move_ply_5 Clock_ply_1 Clock_ply_2 Clock_ply_3 Clock_ply_4 Clock_ply_5  \n",
      "0         e4     0:05:00     0:05:00     0:04:55     0:04:57     0:04:46  \n",
      "1        Bc4     0:05:00     0:05:00     0:04:59     0:04:59     0:04:59  \n",
      "2         c3     0:10:00     0:10:00     0:09:52     0:09:59     0:09:41  \n",
      "3        Nc3     0:01:00     0:01:00     0:00:59     0:01:00     0:00:59  \n",
      "4         d4     0:03:00     0:03:00     0:02:59     0:03:00     0:02:58  \n",
      "Summary statistics: \n",
      "                                Opening  Result        Date TimeControl  \\\n",
      "count                            200000  200000      200000      200000   \n",
      "unique                             2357       4          32         465   \n",
      "top     Queen's Pawn Game: Mason Attack     1-0  2019.05.01       600+0   \n",
      "freq                               3467  100351        7032       35993   \n",
      "\n",
      "           UTCDate   UTCTime Move_ply_1 Move_ply_2 Move_ply_3 Move_ply_4  \\\n",
      "count       200000    200000     200000     200000     200000     200000   \n",
      "unique          32     75238         20         20         91        117   \n",
      "top     2019.05.01  16:00:03         e4         e5        Nf3        Nc6   \n",
      "freq          7032        21     121365      61827      69531      47356   \n",
      "\n",
      "       Move_ply_5 Clock_ply_1 Clock_ply_2 Clock_ply_3 Clock_ply_4 Clock_ply_5  \n",
      "count      200000      200000      200000      200000      200000      200000  \n",
      "unique        267          57          89        1244        1291        1590  \n",
      "top           Nc3     0:05:00     0:05:00     0:00:59     0:00:59     0:00:59  \n",
      "freq        32849       49906       49916       15974       14267       10214  \n"
     ]
    }
   ],
   "source": [
    "# Select relevant columns. These can be refined at any time.\n",
    "columns_of_interest = ['Opening', 'Result', 'Date', 'TimeControl', 'UTCDate', 'UTCTime'] + [f'Move_ply_{i}' for i in range(1, 6)] + [f'Clock_ply_{i}' for i in range(1, 6)]\n",
    "data = data[columns_of_interest]\n",
    "\n",
    "# Inspect the transofmration has been implemented\n",
    "# Inspect the first 5 rows.\n",
    "print(f\"First 5 rows: \\n{data.head()}\")\n",
    "\n",
    "# Display the summary statistics.\n",
    "print(f\"Summary statistics: \\n{data.describe()}\")"
   ]
  },
  {
   "cell_type": "markdown",
   "metadata": {},
   "source": [
    "Amelia, this is where we will need to map the chess openings to patterns. I have just made my code to look at the first 6 moves. Once you map the 2357 unique openings, you may need to adjust the Move_ply_ range and the clock_ply_ range to 1, whatever number. "
   ]
  },
  {
   "cell_type": "code",
   "execution_count": null,
   "metadata": {},
   "outputs": [],
   "source": [
    "# Chess opening mapping code. "
   ]
  },
  {
   "cell_type": "markdown",
   "metadata": {},
   "source": [
    "Link the openings to the mapping code. Keep the Opening column and use that as validation."
   ]
  },
  {
   "cell_type": "code",
   "execution_count": null,
   "metadata": {},
   "outputs": [],
   "source": [
    "# Pattern linking code. "
   ]
  },
  {
   "cell_type": "markdown",
   "metadata": {},
   "source": [
    "Visualise, as visualising stuff is cool!!"
   ]
  },
  {
   "cell_type": "code",
   "execution_count": null,
   "metadata": {},
   "outputs": [],
   "source": [
    "# Plotting code!!"
   ]
  }
 ],
 "metadata": {
  "kernelspec": {
   "display_name": "Python 3",
   "language": "python",
   "name": "python3"
  },
  "language_info": {
   "codemirror_mode": {
    "name": "ipython",
    "version": 3
   },
   "file_extension": ".py",
   "mimetype": "text/x-python",
   "name": "python",
   "nbconvert_exporter": "python",
   "pygments_lexer": "ipython3",
   "version": "3.10.11"
  }
 },
 "nbformat": 4,
 "nbformat_minor": 2
}
