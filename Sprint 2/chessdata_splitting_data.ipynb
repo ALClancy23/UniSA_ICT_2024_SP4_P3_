{
 "cells": [
  {
   "cell_type": "code",
   "execution_count": 1,
   "metadata": {},
   "outputs": [],
   "source": [
    "# Import libraries\n",
    "import pandas as pd\n",
    "from sklearn.model_selection import train_test_split\n",
    "import os"
   ]
  },
  {
   "cell_type": "code",
   "execution_count": 2,
   "metadata": {},
   "outputs": [],
   "source": [
    "# Define file path\n",
    "file_path = 'C:/Users/jenni/Desktop/jn/uni/capstone 1/chessdata.csv'"
   ]
  },
  {
   "cell_type": "code",
   "execution_count": 8,
   "metadata": {},
   "outputs": [],
   "source": [
    "# Ensure the output directory exists\n",
    "output_dir = 'C:/Users/jenni/Desktop/jn/uni/capstone 1/chessdata training and test set'\n",
    "os.makedirs(output_dir, exist_ok=True)"
   ]
  },
  {
   "cell_type": "code",
   "execution_count": 5,
   "metadata": {},
   "outputs": [
    {
     "name": "stderr",
     "output_type": "stream",
     "text": [
      "C:\\Users\\jenni\\AppData\\Local\\Temp\\ipykernel_38804\\1648624105.py:2: DtypeWarning: Columns (188,189,190,191,192,193,194,195,196,197,198,199,200,201,202,203,204,205,206,207,208,388,389,390,391,392,393,394,395,396,397,398,399,400,401,402,403,404,405,406,407,408) have mixed types. Specify dtype option on import or set low_memory=False.\n",
      "  df = pd.read_csv(file_path)\n"
     ]
    }
   ],
   "source": [
    "# Load dataset\n",
    "df = pd.read_csv(file_path)"
   ]
  },
  {
   "cell_type": "code",
   "execution_count": 9,
   "metadata": {},
   "outputs": [
    {
     "name": "stdout",
     "output_type": "stream",
     "text": [
      "Training Set:\n",
      "         Index        Date  ECO  \\\n",
      "21269    21269  2019.05.25  A43   \n",
      "187660  187660  2019.05.20  B32   \n",
      "774        774  2019.05.01  A04   \n",
      "184577  184577  2019.05.20  B30   \n",
      "37127    37127  2019.05.28  D06   \n",
      "\n",
      "                                                  Opening Result Termination  \\\n",
      "21269               Benoni Defense: Benoni-Indian Defense    0-1      Normal   \n",
      "187660             Sicilian Defense: Loewenthal Variation    1-0      Normal   \n",
      "774                Zukertort Opening: Kingside Fianchetto    1-0      Normal   \n",
      "184577                     Sicilian Defense: Old Sicilian    1-0      Normal   \n",
      "37127   Queen's Gambit Refused: Marshall Defense, Tan ...    1-0      Normal   \n",
      "\n",
      "       TimeControl     UTCDate   UTCTime Move_ply_1  ... Clock_ply_192  \\\n",
      "21269       900+15  2019.05.25  20:25:43         d4  ...           NaN   \n",
      "187660       300+3  2019.05.20  21:48:48         e4  ...           NaN   \n",
      "774          300+0  2019.05.01   1:20:20        Nf3  ...           NaN   \n",
      "184577      900+15  2019.05.20  12:46:42         e4  ...           NaN   \n",
      "37127        600+0  2019.05.28  10:16:03         d4  ...           NaN   \n",
      "\n",
      "       Clock_ply_193 Clock_ply_194 Clock_ply_195 Clock_ply_196 Clock_ply_197  \\\n",
      "21269            NaN           NaN           NaN           NaN           NaN   \n",
      "187660           NaN           NaN           NaN           NaN           NaN   \n",
      "774              NaN           NaN           NaN           NaN           NaN   \n",
      "184577           NaN           NaN           NaN           NaN           NaN   \n",
      "37127            NaN           NaN           NaN           NaN           NaN   \n",
      "\n",
      "       Clock_ply_198 Clock_ply_199 Clock_ply_200   Category  \n",
      "21269            NaN           NaN           NaN  Classical  \n",
      "187660           NaN           NaN           NaN      Blitz  \n",
      "774              NaN           NaN           NaN      Blitz  \n",
      "184577           NaN           NaN           NaN  Classical  \n",
      "37127            NaN           NaN           NaN      Rapid  \n",
      "\n",
      "[5 rows x 410 columns]\n",
      "\n",
      "Test Set:\n",
      "         Index        Date  ECO                                 Opening  \\\n",
      "119737  119737  2019.05.11  C10      French Defense: Marshall Variation   \n",
      "72272    72272  2019.05.05  B32  Sicilian Defense: Loewenthal Variation   \n",
      "158154  158154  2019.05.17  B06               Robatsch (Modern) Defense   \n",
      "65426    65426  2019.05.31  B07                         Pirc Defense #2   \n",
      "30074    30074  2019.05.27  C62             Ruy Lopez: Steinitz Defense   \n",
      "\n",
      "       Result Termination TimeControl     UTCDate   UTCTime Move_ply_1  ...  \\\n",
      "119737    1-0      Normal      900+15  2019.05.11  12:22:21         e4  ...   \n",
      "72272     0-1      Normal       600+0  2019.05.05  12:29:00         e4  ...   \n",
      "158154    0-1      Normal       600+0  2019.05.17  12:45:44         d4  ...   \n",
      "65426     1-0      Normal        60+0  2019.05.31  14:41:44         d4  ...   \n",
      "30074     1-0      Normal       600+0  2019.05.27   7:04:26         e4  ...   \n",
      "\n",
      "       Clock_ply_192 Clock_ply_193 Clock_ply_194 Clock_ply_195 Clock_ply_196  \\\n",
      "119737           NaN           NaN           NaN           NaN           NaN   \n",
      "72272            NaN           NaN           NaN           NaN           NaN   \n",
      "158154           NaN           NaN           NaN           NaN           NaN   \n",
      "65426            NaN           NaN           NaN           NaN           NaN   \n",
      "30074            NaN           NaN           NaN           NaN           NaN   \n",
      "\n",
      "       Clock_ply_197 Clock_ply_198 Clock_ply_199 Clock_ply_200   Category  \n",
      "119737           NaN           NaN           NaN           NaN  Classical  \n",
      "72272            NaN           NaN           NaN           NaN      Rapid  \n",
      "158154           NaN           NaN           NaN           NaN      Rapid  \n",
      "65426            NaN           NaN           NaN           NaN     Bullet  \n",
      "30074            NaN           NaN           NaN           NaN      Rapid  \n",
      "\n",
      "[5 rows x 410 columns]\n"
     ]
    }
   ],
   "source": [
    "# Split the dataset into training and test sets (70/30)\n",
    "train_df, test_df = train_test_split(df, test_size=0.3, random_state=42)\n",
    "\n",
    "# Save the splits to CSV files\n",
    "train_csv = os.path.join(output_dir, 'train_dataset.csv')\n",
    "test_csv = os.path.join(output_dir, 'test_dataset.csv')\n",
    "train_df.to_csv(train_csv, index=False)\n",
    "test_df.to_csv(test_csv, index=False)\n",
    "\n",
    "# Display the first few rows of the training and test sets\n",
    "print(\"Training Set:\")\n",
    "print(train_df.head())\n",
    "print(\"\\nTest Set:\")\n",
    "print(test_df.head())"
   ]
  },
  {
   "cell_type": "code",
   "execution_count": null,
   "metadata": {},
   "outputs": [],
   "source": []
  }
 ],
 "metadata": {
  "kernelspec": {
   "display_name": "Python 3",
   "language": "python",
   "name": "python3"
  },
  "language_info": {
   "codemirror_mode": {
    "name": "ipython",
    "version": 3
   },
   "file_extension": ".py",
   "mimetype": "text/x-python",
   "name": "python",
   "nbconvert_exporter": "python",
   "pygments_lexer": "ipython3",
   "version": "3.12.3"
  }
 },
 "nbformat": 4,
 "nbformat_minor": 2
}
