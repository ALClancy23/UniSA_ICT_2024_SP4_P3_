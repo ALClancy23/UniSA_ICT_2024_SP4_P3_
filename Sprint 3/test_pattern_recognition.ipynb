{
 "cells": [
  {
   "cell_type": "markdown",
   "metadata": {},
   "source": [
    "# Objective\n",
    "The goal of Milestone 3 is to generate code to randomly remove some data to replicate incomplete data, and then determine the accuracy of the coding to determine the opening move with missing data. This code begins by randomly generating the data removed and then \n",
    "\n",
    "*Jennifer will add more detail. "
   ]
  },
  {
   "cell_type": "markdown",
   "metadata": {},
   "source": [
    "# Step 1: Import Libraries and Setup\n",
    "\n",
    "This section imports the necessary libraries for data manipulation and visualisation. \n",
    "\n",
    "The sys library is used to modify the system path to include the directory where the ChessOpeningMapper module is located.\n"
   ]
  },
  {
   "cell_type": "code",
   "execution_count": 1,
   "metadata": {},
   "outputs": [],
   "source": [
    "import pandas as pd\n",
    "import matplotlib.pyplot as plt\n",
    "import seaborn as sns\n",
    "import sys\n",
    "import zipfile\n",
    "import os\n",
    "import numpy as np\n",
    "import random\n",
    "from sklearn.model_selection import train_test_split\n",
    "\n",
    "# Add the path to the directory where ChessOpeningMapper.py is located. I had issues with the path, \n",
    "# so I went with the relative path. This will have to change.\n",
    "sys.path.append(r'Sprint 2')\n",
    "\n",
    "# Import ChessOpeningMapper\n",
    "from ChessOpeningMapper import ChessOpeningMapper\n",
    "\n"
   ]
  },
  {
   "cell_type": "markdown",
   "metadata": {},
   "source": [
    "# Step 2: Load Opening Moves and Create Trie Structure.\n",
    "# \n",
    "In this step, an instance of ChessOpeningMapper is created.\n",
    "\n",
    "A list of file paths to the TSV files containing chess openings is defined.\n",
    "\n",
    "These TSV files are merged into a single DataFrame using merge_tsv_files.\n",
    "\n",
    "The PGN strings are split into individual moves using split_pgn_to_columns.\n",
    "\n",
    "A Trie structure is created from the opening moves using create_trie."
   ]
  },
  {
   "cell_type": "code",
   "execution_count": 2,
   "metadata": {},
   "outputs": [
    {
     "name": "stdout",
     "output_type": "stream",
     "text": [
      "Opening Moves DataFrame:\n",
      "   eco                                     name  \\\n",
      "0  A00                             Amar Opening   \n",
      "1  A00               Amar Opening: Paris Gambit   \n",
      "2  A00  Amar Opening: Paris Gambit, Gent Gambit   \n",
      "3  A00                         Amsterdam Attack   \n",
      "4  A00                      Anderssen's Opening   \n",
      "\n",
      "                                                 pgn Move_ply_1 Move_ply_2  \\\n",
      "0                                             1. Nh3        Nh3       None   \n",
      "1                           1. Nh3 d5 2. g3 e5 3. f4        Nh3         d5   \n",
      "2  1. Nh3 d5 2. g3 e5 3. f4 Bxh3 4. Bxh3 exf4 5. ...        Nh3         d5   \n",
      "3             1. e3 e5 2. c4 d6 3. Nc3 Nc6 4. b3 Nf6         e3         e5   \n",
      "4                                              1. a3         a3       None   \n",
      "\n",
      "  Move_ply_3 Move_ply_4 Move_ply_5 Move_ply_6 Move_ply_7  ... Move_ply_28  \\\n",
      "0       None       None       None       None       None  ...        None   \n",
      "1         g3         e5         f4       None       None  ...        None   \n",
      "2         g3         e5         f4       Bxh3       Bxh3  ...        None   \n",
      "3         c4         d6        Nc3        Nc6         b3  ...        None   \n",
      "4       None       None       None       None       None  ...        None   \n",
      "\n",
      "  Move_ply_29 Move_ply_30 Move_ply_31 Move_ply_32 Move_ply_33 Move_ply_34  \\\n",
      "0        None        None        None        None        None        None   \n",
      "1        None        None        None        None        None        None   \n",
      "2        None        None        None        None        None        None   \n",
      "3        None        None        None        None        None        None   \n",
      "4        None        None        None        None        None        None   \n",
      "\n",
      "  Move_ply_35 Move_ply_36                                         plies  \n",
      "0        None        None                                           Nh3  \n",
      "1        None        None                               Nh3 d5 g3 e5 f4  \n",
      "2        None        None  Nh3 d5 g3 e5 f4 Bxh3 Bxh3 exf4 O-O fxg3 hxg3  \n",
      "3        None        None                    e3 e5 c4 d6 Nc3 Nc6 b3 Nf6  \n",
      "4        None        None                                            a3  \n",
      "\n",
      "[5 rows x 40 columns]\n"
     ]
    }
   ],
   "source": [
    "# Create an instance of ChessOpeningMapper\n",
    "mapper = ChessOpeningMapper()\n",
    "\n",
    "# Define a list of file paths to the TSV files containing chess openings, I had issues with the path, so I have mapped them manually. \n",
    "file_list = [\n",
    "    r'Chess Pattern Recognition\\a.tsv',\n",
    "    r'Chess Pattern Recognition\\b.tsv',\n",
    "    r'Chess Pattern Recognition\\c.tsv',\n",
    "    r'Chess Pattern Recognition\\d.tsv',\n",
    "    r'Chess Pattern Recognition\\e.tsv'\n",
    "]\n",
    "\n",
    "# Merge the TSV files into a single DataFrame\n",
    "opening_moves = mapper.merge_tsv_files(file_list)\n",
    "\n",
    "# Split the PGN strings into individual moves\n",
    "opening_moves = mapper.split_pgn_to_columns(opening_moves)\n",
    "\n",
    "# Create a Trie structure from the opening moves\n",
    "mapper.create_trie(opening_moves)\n",
    "\n",
    "# Display the first few rows of the opening moves DataFrame\n",
    "print(\"Opening Moves DataFrame:\")\n",
    "print(opening_moves.head())"
   ]
  },
  {
   "cell_type": "markdown",
   "metadata": {},
   "source": [
    "# Step 3: Unzip and Load Chess Game Data\n",
    "This step involves:\n",
    "\n",
    "Defining the path to the zipped game data file.\n",
    "\n",
    "Unzipping the game data file to extract the CSV file.\n",
    "\n",
    "Loading the extracted CSV file into a DataFrame."
   ]
  },
  {
   "cell_type": "code",
   "execution_count": 3,
   "metadata": {},
   "outputs": [
    {
     "name": "stderr",
     "output_type": "stream",
     "text": [
      "c:\\Users\\jenni\\Desktop\\jn\\uni\\capstone 1\\Sprint 2\\ChessOpeningMapper.py:104: DtypeWarning: Columns (188,189,190,191,192,193,194,195,196,197,198,199,200,201,202,203,204,205,206,207,208,388,389,390,391,392,393,394,395,396,397,398,399,400,401,402,403,404,405,406,407,408) have mixed types. Specify dtype option on import or set low_memory=False.\n",
      "  game_data = pd.read_csv(extracted_file_name)\n"
     ]
    },
    {
     "name": "stdout",
     "output_type": "stream",
     "text": [
      "Game Data DataFrame:\n",
      "   Index        Date  ECO                                 Opening Result  \\\n",
      "0      0  2019.04.30  B15                       Caro-Kann Defense    0-1   \n",
      "1      1  2019.04.30  C50                            Italian Game    0-1   \n",
      "2      2  2019.04.30  C41                     Philidor Defense #2    1-0   \n",
      "3      3  2019.04.30  B06                          Modern Defense    0-1   \n",
      "4      4  2019.04.30  B32  Sicilian Defense: Loewenthal Variation    1-0   \n",
      "\n",
      "  Termination TimeControl     UTCDate   UTCTime Move_ply_1  ... Clock_ply_192  \\\n",
      "0      Normal       300+3  2019.04.30  22:00:24         d4  ...           NaN   \n",
      "1      Normal       300+0  2019.04.30  22:00:13         e4  ...           NaN   \n",
      "2      Normal       600+0  2019.04.30  22:00:41         e4  ...           NaN   \n",
      "3      Normal        60+0  2019.04.30  22:00:43         e4  ...           NaN   \n",
      "4      Normal       180+0  2019.04.30  22:00:46         e4  ...           NaN   \n",
      "\n",
      "  Clock_ply_193 Clock_ply_194 Clock_ply_195 Clock_ply_196 Clock_ply_197  \\\n",
      "0           NaN           NaN           NaN           NaN           NaN   \n",
      "1           NaN           NaN           NaN           NaN           NaN   \n",
      "2           NaN           NaN           NaN           NaN           NaN   \n",
      "3           NaN           NaN           NaN           NaN           NaN   \n",
      "4           NaN           NaN           NaN           NaN           NaN   \n",
      "\n",
      "  Clock_ply_198 Clock_ply_199 Clock_ply_200 Category  \n",
      "0           NaN           NaN           NaN    Blitz  \n",
      "1           NaN           NaN           NaN    Blitz  \n",
      "2           NaN           NaN           NaN    Rapid  \n",
      "3           NaN           NaN           NaN   Bullet  \n",
      "4           NaN           NaN           NaN    Blitz  \n",
      "\n",
      "[5 rows x 410 columns]\n"
     ]
    }
   ],
   "source": [
    "# Define the path to the zipped game data file\n",
    "game_data_zip_path = r'Chess Pattern Recognition\\chessdata.zip'\n",
    "\n",
    "# Define the name of the extracted CSV file\n",
    "extracted_file_name = 'chessdata.csv'\n",
    "\n",
    "# Unzip the game data file\n",
    "ChessOpeningMapper.unzip_game_data(zip_path=game_data_zip_path, extract_to='.')\n",
    "\n",
    "# Load the extracted CSV file into a DataFrame\n",
    "game_data = ChessOpeningMapper.load_game_data(zip_path=game_data_zip_path, extracted_file_name=extracted_file_name)\n",
    "\n",
    "# Display the first few rows of the game data DataFrame\n",
    "print(\"Game Data DataFrame:\")\n",
    "print(game_data.head())\n"
   ]
  },
  {
   "cell_type": "markdown",
   "metadata": {},
   "source": [
    "# Step 4: Map Opening Names to Game Data\n",
    "\n",
    "Here:\n",
    "\n",
    "The game data is processed to map the move sequences to opening names using get_opening_name_from_game.\n",
    "\n",
    "The mapped opening names are added to the original game data DataFrame in a new column called mapped_opening.\n"
   ]
  },
  {
   "cell_type": "code",
   "execution_count": 4,
   "metadata": {},
   "outputs": [
    {
     "name": "stdout",
     "output_type": "stream",
     "text": [
      "First 5 rows with mapped openings: \n",
      "   Index        Date  ECO                                 Opening Result  \\\n",
      "0      0  2019.04.30  B15                       Caro-Kann Defense    0-1   \n",
      "1      1  2019.04.30  C50                            Italian Game    0-1   \n",
      "2      2  2019.04.30  C41                     Philidor Defense #2    1-0   \n",
      "3      3  2019.04.30  B06                          Modern Defense    0-1   \n",
      "4      4  2019.04.30  B32  Sicilian Defense: Loewenthal Variation    1-0   \n",
      "\n",
      "  Termination TimeControl     UTCDate   UTCTime Move_ply_1  ... Clock_ply_193  \\\n",
      "0      Normal       300+3  2019.04.30  22:00:24         d4  ...           NaN   \n",
      "1      Normal       300+0  2019.04.30  22:00:13         e4  ...           NaN   \n",
      "2      Normal       600+0  2019.04.30  22:00:41         e4  ...           NaN   \n",
      "3      Normal        60+0  2019.04.30  22:00:43         e4  ...           NaN   \n",
      "4      Normal       180+0  2019.04.30  22:00:46         e4  ...           NaN   \n",
      "\n",
      "  Clock_ply_194 Clock_ply_195 Clock_ply_196 Clock_ply_197 Clock_ply_198  \\\n",
      "0           NaN           NaN           NaN           NaN           NaN   \n",
      "1           NaN           NaN           NaN           NaN           NaN   \n",
      "2           NaN           NaN           NaN           NaN           NaN   \n",
      "3           NaN           NaN           NaN           NaN           NaN   \n",
      "4           NaN           NaN           NaN           NaN           NaN   \n",
      "\n",
      "  Clock_ply_199 Clock_ply_200 Category                         mapped_opening  \n",
      "0           NaN           NaN    Blitz  Queen's Pawn Game: Chigorin Variation  \n",
      "1           NaN           NaN    Blitz            Italian Game: Paris Defense  \n",
      "2           NaN           NaN    Rapid                       Philidor Defense  \n",
      "3           NaN           NaN   Bullet                         Modern Defense  \n",
      "4           NaN           NaN    Blitz  Sicilian Defense: Löwenthal Variation  \n",
      "\n",
      "[5 rows x 411 columns]\n"
     ]
    }
   ],
   "source": [
    "# Map the opening names to the game data\n",
    "result_df = mapper.get_opening_name_from_game(game_data)\n",
    "\n",
    "# Add the mapped opening names to the original game data DataFrame\n",
    "game_data['mapped_opening'] = result_df['opening_name']\n",
    "\n",
    "# Display the first 5 rows of the updated game data DataFrame\n",
    "print(f\"First 5 rows with mapped openings: \\n{game_data.head()}\")"
   ]
  },
  {
   "cell_type": "markdown",
   "metadata": {},
   "source": [
    "# Step 5: Generate Random Code\n",
    "\n",
    "Here:\n",
    "\n",
    "- Define the number of loss values\n",
    "- Randomly select a number of variables depending on the loss values \n",
    "- Rename the random values as move_ply_xx and then drop \n"
   ]
  },
  {
   "cell_type": "code",
   "execution_count": 5,
   "metadata": {},
   "outputs": [
    {
     "name": "stdout",
     "output_type": "stream",
     "text": [
      "[7, 10, 8]\n"
     ]
    }
   ],
   "source": [
    "# setting loss rows to 1, 2, 3 etc\n",
    "loss = [1, 2, 3, 4, 5, 10, 15, 20, 25, 30]\n",
    "index = 0\n",
    "\n",
    "# select a number of variables based on the number of rows lossed, \n",
    "# between 0 and 36 to determine which rows to randomly drop\n",
    "#### Note- 36 was determined as the longest opening move in the dataset\n",
    "while index < len(loss):\n",
    "    globals()['loss%s' % loss[index]] = random.sample(range(1, 36), loss[index])\n",
    "    index += 1\n",
    "\n",
    "# test example of the loss 3 rows to remove\n",
    "print(loss3)\n"
   ]
  },
  {
   "cell_type": "code",
   "execution_count": 6,
   "metadata": {},
   "outputs": [
    {
     "name": "stdout",
     "output_type": "stream",
     "text": [
      "         Index        Date  ECO  \\\n",
      "0            0  2019.04.30  B15   \n",
      "1            1  2019.04.30  C50   \n",
      "2            2  2019.04.30  C41   \n",
      "3            3  2019.04.30  B06   \n",
      "4            4  2019.04.30  B32   \n",
      "...        ...         ...  ...   \n",
      "199995  199995  2019.05.22  B00   \n",
      "199996  199996  2019.05.22  C21   \n",
      "199997  199997  2019.05.22  D20   \n",
      "199998  199998  2019.05.22  B07   \n",
      "199999  199999  2019.05.22  A40   \n",
      "\n",
      "                                                  Opening Result  \\\n",
      "0                                       Caro-Kann Defense    0-1   \n",
      "1                                            Italian Game    0-1   \n",
      "2                                     Philidor Defense #2    1-0   \n",
      "3                                          Modern Defense    0-1   \n",
      "4                  Sicilian Defense: Loewenthal Variation    1-0   \n",
      "...                                                   ...    ...   \n",
      "199995  Nimzowitsch Defense: Kennedy Variation, Linkss...    0-1   \n",
      "199996                     King's Pawn Game: Beyer Gambit    1-0   \n",
      "199997                            Queen's Gambit Accepted    1-0   \n",
      "199998                                    Pirc Defense #5    0-1   \n",
      "199999                                    Horwitz Defense    0-1   \n",
      "\n",
      "         Termination TimeControl     UTCDate   UTCTime Move_ply_1  ...  \\\n",
      "0             Normal       300+3  2019.04.30  22:00:24         d4  ...   \n",
      "1             Normal       300+0  2019.04.30  22:00:13         e4  ...   \n",
      "2             Normal       600+0  2019.04.30  22:00:41         e4  ...   \n",
      "3             Normal        60+0  2019.04.30  22:00:43         e4  ...   \n",
      "4             Normal       180+0  2019.04.30  22:00:46         e4  ...   \n",
      "...              ...         ...         ...       ...        ...  ...   \n",
      "199995        Normal       600+0  2019.05.22  21:17:00         e4  ...   \n",
      "199996  Time forfeit      900+15  2019.05.22  21:17:09         e4  ...   \n",
      "199997        Normal       180+2  2019.05.22  21:17:09         d4  ...   \n",
      "199998        Normal        15+0  2019.05.22  21:17:13         d4  ...   \n",
      "199999        Normal       180+2  2019.05.22  21:17:19         d4  ...   \n",
      "\n",
      "       Clock_ply_193 Clock_ply_194 Clock_ply_195 Clock_ply_196 Clock_ply_197  \\\n",
      "0                NaN           NaN           NaN           NaN           NaN   \n",
      "1                NaN           NaN           NaN           NaN           NaN   \n",
      "2                NaN           NaN           NaN           NaN           NaN   \n",
      "3                NaN           NaN           NaN           NaN           NaN   \n",
      "4                NaN           NaN           NaN           NaN           NaN   \n",
      "...              ...           ...           ...           ...           ...   \n",
      "199995           NaN           NaN           NaN           NaN           NaN   \n",
      "199996           NaN           NaN           NaN           NaN           NaN   \n",
      "199997           NaN           NaN           NaN           NaN           NaN   \n",
      "199998           NaN           NaN           NaN           NaN           NaN   \n",
      "199999           NaN           NaN           NaN           NaN           NaN   \n",
      "\n",
      "       Clock_ply_198 Clock_ply_199 Clock_ply_200   Category  \\\n",
      "0                NaN           NaN           NaN      Blitz   \n",
      "1                NaN           NaN           NaN      Blitz   \n",
      "2                NaN           NaN           NaN      Rapid   \n",
      "3                NaN           NaN           NaN     Bullet   \n",
      "4                NaN           NaN           NaN      Blitz   \n",
      "...              ...           ...           ...        ...   \n",
      "199995           NaN           NaN           NaN      Rapid   \n",
      "199996           NaN           NaN           NaN  Classical   \n",
      "199997           NaN           NaN           NaN      Blitz   \n",
      "199998           NaN           NaN           NaN     Bullet   \n",
      "199999           NaN           NaN           NaN      Blitz   \n",
      "\n",
      "                                           mapped_opening  \n",
      "0                   Queen's Pawn Game: Chigorin Variation  \n",
      "1                             Italian Game: Paris Defense  \n",
      "2                                        Philidor Defense  \n",
      "3                                          Modern Defense  \n",
      "4                   Sicilian Defense: Löwenthal Variation  \n",
      "...                                                   ...  \n",
      "199995  Nimzowitsch Defense: Kennedy Variation, Linkss...  \n",
      "199996                     King's Pawn Game: Beyer Gambit  \n",
      "199997                            Queen's Gambit Accepted  \n",
      "199998                                  Queen's Pawn Game  \n",
      "199999                                    Horwitz Defense  \n",
      "\n",
      "[200000 rows x 411 columns]\n"
     ]
    }
   ],
   "source": [
    "# set loop to make selected values from above to None \n",
    "drop_columns3 = {f'Move_ply_{i}' for i in loss3}\n",
    "game_data3 = game_data\n",
    "for i in drop_columns3:\n",
    "    game_data3[i] = None\n",
    "\n",
    "# test sample for 3 rows loss \n",
    "print(game_data3)"
   ]
  },
  {
   "cell_type": "markdown",
   "metadata": {},
   "source": [
    "# Step 6: Prepare Data for Testing\n",
    "\n",
    "In this step, game data is processed to create sequences from non-null moves, preparing it for pattern recognition testing. This step ensures each game's moves are consolidated into a format suitable for analysis."
   ]
  },
  {
   "cell_type": "code",
   "execution_count": 7,
   "metadata": {},
   "outputs": [
    {
     "name": "stdout",
     "output_type": "stream",
     "text": [
      "Processed game data (with move sequences):\n",
      "   Move_ply_1 Move_ply_2 Move_ply_3 Move_ply_4 Move_ply_5 Move_ply_6  \\\n",
      "0         d4         d5        Nc3         c6         e4         h5   \n",
      "1         e4         e5        Nf3        Nc6        Bc4         d6   \n",
      "2         e4         e5        Nf3         d6         c3        Be7   \n",
      "3         e4         g6         d4         h6        Nc3        Bg7   \n",
      "4         e4         c5        Nf3        Nc6         d4       cxd4   \n",
      "\n",
      "  Move_ply_7 Move_ply_8 Move_ply_9 Move_ply_10  ... Move_ply_193 Move_ply_194  \\\n",
      "0       None       None        Qf3        None  ...          NaN          NaN   \n",
      "1       None       None         d4        None  ...          NaN          NaN   \n",
      "2       None       None       cxd4        None  ...          NaN          NaN   \n",
      "3       None       None         f3        None  ...          NaN          NaN   \n",
      "4       None       None        Nb5        None  ...          NaN          NaN   \n",
      "\n",
      "  Move_ply_195 Move_ply_196 Move_ply_197 Move_ply_198 Move_ply_199  \\\n",
      "0          NaN          NaN          NaN          NaN          NaN   \n",
      "1          NaN          NaN          NaN          NaN          NaN   \n",
      "2          NaN          NaN          NaN          NaN          NaN   \n",
      "3          NaN          NaN          NaN          NaN          NaN   \n",
      "4          NaN          NaN          NaN          NaN          NaN   \n",
      "\n",
      "  Move_ply_200                                      move_sequence  \\\n",
      "0          NaN  d4 d5 Nc3 c6 e4 h5 Qf3 Qf4 e6 Bb5+ Nc6 f3 Bd6 ...   \n",
      "1          NaN  e4 e5 Nf3 Nc6 Bc4 d6 d4 Nxd4 Nf6 Nxc6 bxc6 e5 ...   \n",
      "2          NaN  e4 e5 Nf3 d6 c3 Be7 cxd4 Bd3 h6 O-O O-O Nc3 Nc...   \n",
      "3          NaN  e4 g6 d4 h6 Nc3 Bg7 f3 Be3 O-O Qd2 Kh7 O-O-O d...   \n",
      "4          NaN  e4 c5 Nf3 Nc6 d4 cxd4 Nb5 Nd6+ Bxd6 Qxd6 Qe7 Q...   \n",
      "\n",
      "                          mapped_opening  \n",
      "0  Queen's Pawn Game: Chigorin Variation  \n",
      "1            Italian Game: Paris Defense  \n",
      "2                       Philidor Defense  \n",
      "3                         Modern Defense  \n",
      "4  Sicilian Defense: Löwenthal Variation  \n",
      "\n",
      "[5 rows x 202 columns]\n"
     ]
    }
   ],
   "source": [
    "# Prepare data by creating move sequences from non-null moves\n",
    "def prepare_game_data_for_testing(game_data, max_plies=200):\n",
    "    \n",
    "    \"\"\"\n",
    "    Prepare the game data by creating move sequences from non-null moves.\n",
    "    \n",
    "    Args:\n",
    "    - game_data (pd.DataFrame): The DataFrame with chess moves.\n",
    "    - max_plies (int): The maximum number of plies to consider (default is 200).\n",
    "    \n",
    "    Returns:\n",
    "    - pd.DataFrame: A DataFrame with a new column 'move_sequence' containing sequences of moves.\n",
    "    \"\"\"\n",
    "\n",
    "    move_columns = [f'Move_ply_{i+1}' for i in range(max_plies)]\n",
    "    selected_moves_df = game_data[move_columns].copy()\n",
    "\n",
    "    def create_move_sequence(row):\n",
    "        moves = row.dropna().tolist()  # Drop NaN values and convert to list\n",
    "        return ' '.join(moves)\n",
    "\n",
    "    selected_moves_df['move_sequence'] = selected_moves_df.apply(create_move_sequence, axis=1)\n",
    "    selected_moves_df['mapped_opening'] = game_data['mapped_opening']  # Ensure this column exists\n",
    "    return selected_moves_df\n",
    "\n",
    "# Prepare the incomplete game data for testing\n",
    "processed_game_data3 = prepare_game_data_for_testing(game_data3)\n",
    "\n",
    "# Debug: Check move sequences\n",
    "print(\"Processed game data (with move sequences):\\n\", processed_game_data3.head())"
   ]
  },
  {
   "cell_type": "markdown",
   "metadata": {},
   "source": [
    "# Step 7: Test Pattern Recognition on Incomplete Data\n",
    "\n",
    "In this step, the ChessOpeningMapper is used to predict chess openings from the processed, incomplete data. The predicted openings are then compared with the actual mapped openings to determine the accuracy of the model, assessing its ability to handle missing data."
   ]
  },
  {
   "cell_type": "code",
   "execution_count": 9,
   "metadata": {},
   "outputs": [
    {
     "name": "stdout",
     "output_type": "stream",
     "text": [
      "Accuracy on incomplete data: 86.72%\n",
      "                          mapped_opening  \\\n",
      "0  Queen's Pawn Game: Chigorin Variation   \n",
      "1            Italian Game: Paris Defense   \n",
      "2                       Philidor Defense   \n",
      "3                         Modern Defense   \n",
      "4  Sicilian Defense: Löwenthal Variation   \n",
      "\n",
      "                       predicted_opening  match  \n",
      "0  Queen's Pawn Game: Chigorin Variation   True  \n",
      "1            Italian Game: Paris Defense   True  \n",
      "2                       Philidor Defense   True  \n",
      "3                         Modern Defense   True  \n",
      "4                 Sicilian Defense: Open  False  \n"
     ]
    }
   ],
   "source": [
    "# Test pattern recognition on incomplete data\n",
    "def test_pattern_recognition_on_incomplete_data(mapper, incomplete_df):\n",
    "    \n",
    "    \"\"\"\n",
    "    Test the pattern recognition on incomplete data using ChessOpeningMapper.\n",
    "    \n",
    "    Args:\n",
    "    - mapper (ChessOpeningMapper): The ChessOpeningMapper instance for mapping openings.\n",
    "    - incomplete_df (pd.DataFrame): The DataFrame containing incomplete chess move data.\n",
    "    \n",
    "    Returns:\n",
    "    - pd.DataFrame: A DataFrame with the original and predicted openings for comparison.\n",
    "    \"\"\"\n",
    "\n",
    "    # Use the mapper to predict openings based on incomplete data\n",
    "    incomplete_results = mapper.get_opening_name_from_game(incomplete_df)\n",
    "    incomplete_df['predicted_opening'] = incomplete_results['opening_name']\n",
    "    \n",
    "    if 'mapped_opening' in incomplete_df.columns:\n",
    "        incomplete_df['match'] = incomplete_df['mapped_opening'] == incomplete_df['predicted_opening']\n",
    "        accuracy = incomplete_df['match'].mean()\n",
    "        print(f'Accuracy on incomplete data: {accuracy:.2%}')\n",
    "    else:\n",
    "        print(\"No 'mapped_opening' column found in input data\")\n",
    "    \n",
    "    return incomplete_df\n",
    "\n",
    "# Instantiate ChessOpeningMapper and load trie\n",
    "mapper = ChessOpeningMapper()\n",
    "opening_moves = mapper.load_openings()\n",
    "mapper.create_trie(opening_moves)\n",
    "\n",
    "# Run the test\n",
    "result_df = test_pattern_recognition_on_incomplete_data(mapper, processed_game_data3)\n",
    "\n",
    "# Ensure columns exist before printing\n",
    "if 'mapped_opening' in result_df.columns and 'match' in result_df.columns:\n",
    "    print(result_df[['mapped_opening', 'predicted_opening', 'match']].head())\n",
    "else:\n",
    "    print(\"Mapped or Match columns not found in the result DataFrame\")"
   ]
  },
  {
   "cell_type": "markdown",
   "metadata": {},
   "source": [
    "# Step 8: Visualise Pattern Recognition Results\n",
    "\n",
    "In this step, the accuracy of pattern recognition on incomplete data is visualised. A count plot is generated to show the distribution of matches and mismatches between the predicted and actual chess openings, providing insight into the model's performance."
   ]
  },
  {
   "cell_type": "code",
   "execution_count": 10,
   "metadata": {},
   "outputs": [
    {
     "data": {
      "image/png": "[encoded data removed]",
      "text/plain": [
       "<Figure size 1200x600 with 1 Axes>"
      ]
     },
     "metadata": {},
     "output_type": "display_data"
    }
   ],
   "source": [
    "# Step: Visualise results if needed\n",
    "def visualise_pattern_recognition_results(df):\n",
    "    \n",
    "    \"\"\"\n",
    "    Visualise the results of pattern recognition on incomplete data.\n",
    "    \n",
    "    Args:\n",
    "    - df (pd.DataFrame): The DataFrame with columns 'mapped_opening', 'predicted_opening', and 'match'.\n",
    "    \"\"\"\n",
    "\n",
    "    if 'match' in df.columns:\n",
    "        plt.figure(figsize=(12, 6))\n",
    "        sns.countplot(x='match', data=df)\n",
    "        plt.title('Pattern Recognition Accuracy on Incomplete Data')\n",
    "        plt.xlabel('Match (True/False)')\n",
    "        plt.ylabel('Count')\n",
    "        plt.show()\n",
    "    else:\n",
    "        print(\"No 'match' column available to visualize results.\")\n",
    "\n",
    "# Visualise the pattern recognition results if possible\n",
    "visualise_pattern_recognition_results(result_df)"
   ]
  },
  {
   "cell_type": "code",
   "execution_count": null,
   "metadata": {},
   "outputs": [],
   "source": []
  }
 ],
 "metadata": {
  "kernelspec": {
   "display_name": "Python 3",
   "language": "python",
   "name": "python3"
  },
  "language_info": {
   "codemirror_mode": {
    "name": "ipython",
    "version": 3
   },
   "file_extension": ".py",
   "mimetype": "text/x-python",
   "name": "python",
   "nbconvert_exporter": "python",
   "pygments_lexer": "ipython3",
   "version": "3.12.3"
  }
 },
 "nbformat": 4,
 "nbformat_minor": 2
}
